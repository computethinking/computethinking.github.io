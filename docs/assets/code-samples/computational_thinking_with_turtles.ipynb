{
  "nbformat": 4,
  "nbformat_minor": 0,
  "metadata": {
    "colab": {
      "provenance": [],
      "authorship_tag": "ABX9TyNGTQAZkeIxDRifd8/jzw5x",
      "include_colab_link": true
    },
    "kernelspec": {
      "name": "python3",
      "display_name": "Python 3"
    },
    "language_info": {
      "name": "python"
    }
  },
  "cells": [
    {
      "cell_type": "markdown",
      "metadata": {
        "id": "view-in-github",
        "colab_type": "text"
      },
      "source": [
        "<a href=\"https://colab.research.google.com/github/computational-thinking-4-business/computational-thinking-4-business.github.io/blob/main/notebooks/computational_thinking_with_turtles.ipynb\" target=\"_parent\"><img src=\"https://colab.research.google.com/assets/colab-badge.svg\" alt=\"Open In Colab\"/></a>"
      ]
    },
    {
      "cell_type": "code",
      "execution_count": null,
      "metadata": {
        "colab": {
          "base_uri": "https://localhost:8080/"
        },
        "id": "2hn_DPAI3OrU",
        "outputId": "70bfd889-cca3-4d9e-98fd-65cf0cc1e63f"
      },
      "outputs": [
        {
          "output_type": "stream",
          "name": "stdout",
          "text": [
            "Collecting ColabTurtlePlus\n",
            "  Downloading ColabTurtlePlus-2.0.1-py3-none-any.whl.metadata (10 kB)\n",
            "Downloading ColabTurtlePlus-2.0.1-py3-none-any.whl (31 kB)\n",
            "Installing collected packages: ColabTurtlePlus\n",
            "Successfully installed ColabTurtlePlus-2.0.1\n",
            "Put clearscreen() as the first line in a cell (after the import command) to re-run turtle commands in the cell\n"
          ]
        }
      ],
      "source": [
        "!pip install ColabTurtlePlus\n",
        "from ColabTurtlePlus.Turtle import *"
      ]
    },
    {
      "cell_type": "code",
      "source": [
        "def create_turtle(color1='red', color2='yellow', speed=13, width=1.5, fillrule=\"evenodd\"):\n",
        "  \"\"\"Creates a turtle object with specified properties.\"\"\"\n",
        "  T = Turtle()\n",
        "  T.color(color1, color2)\n",
        "  T.speed(speed)\n",
        "  T.width(width)\n",
        "  T.fillrule(fillrule)\n",
        "  return T\n"
      ],
      "metadata": {
        "id": "B4iGO6zAAQdC"
      },
      "execution_count": null,
      "outputs": []
    },
    {
      "cell_type": "code",
      "source": [
        "def draw_spirals(turtle1_data, turtle2_data):\n",
        "  \"\"\"Sets up two turtles and draws spirals with them.\"\"\"\n",
        "  x0 = -225  # Set a starting x-coordinate\n",
        "  turtle1, step_size1, angle1 = turtle1_data  # Unpack the tuple\n",
        "  turtle2, step_size2, angle2 = turtle2_data  # Unpack the tuple\n",
        "  turtle1.jumpto(x0, 0)\n",
        "  turtle2.jumpto(25, 0)\n",
        "  draw_spiral(turtle1, step_size1, angle1)  # Call with unpacked values\n",
        "  draw_spiral(turtle2, step_size2, angle2)  # Call with unpacked values\n"
      ],
      "metadata": {
        "id": "fYGdf5sSAUD6"
      },
      "execution_count": null,
      "outputs": []
    },
    {
      "cell_type": "code",
      "source": [
        "def draw_spiral(turtle_obj, step_size, angle):\n",
        "  \"\"\"Draws a spiral with the given turtle object.\"\"\"\n",
        "  x0 = turtle_obj.getx()\n",
        "  turtle_obj.begin_fill()\n",
        "  while True:\n",
        "      turtle_obj.forward(step_size)\n",
        "      turtle_obj.left(angle)\n",
        "      if (turtle_obj.getx() - x0)**2 + turtle_obj.gety()**2 < 1:\n",
        "          break\n",
        "  turtle_obj.end_fill()\n"
      ],
      "metadata": {
        "id": "XiOb8RH9AVzF"
      },
      "execution_count": null,
      "outputs": []
    },
    {
      "cell_type": "code",
      "source": [
        "# Main part of the program:\n",
        "clearscreen()\n",
        "setup(500, 300)\n",
        "\n",
        "T1 = create_turtle(fillrule=\"nonzero\")\n",
        "T2 = create_turtle('blue', 'green')\n",
        "\n",
        "# Create tuples to store turtle data\n",
        "turtle1_data = (T1, 200, 170)\n",
        "turtle2_data = (T2, 150, 140)\n",
        "\n",
        "draw_spirals(turtle1_data, turtle2_data)\n"
      ],
      "metadata": {
        "colab": {
          "base_uri": "https://localhost:8080/",
          "height": 323
        },
        "id": "Tb-DDF7SAXk8",
        "outputId": "ae6ab8f1-22e1-4450-e91b-227375ca1a04"
      },
      "execution_count": null,
      "outputs": [
        {
          "output_type": "display_data",
          "data": {
            "text/plain": [
              "<IPython.core.display.HTML object>"
            ],
            "text/html": [
              "\n",
              "      <svg width=\"500\" height=\"300\">  \n",
              "        <rect width=\"100%\" height=\"100%\" style=\"fill:white;stroke:;stroke-width:1\"/>\n",
              "        \n",
              "        \n",
              "        <path fill-rule=\"nonzero\" fill-opacity=\"1\" d=\"M 25.0 150.0  L 225.0 150.0  L 28.038 115.27  L 215.977 183.674  L 42.772 83.674  L 195.981 212.232  L 67.423 59.023  L 167.423 232.228  L 99.019 44.289  L 133.749 241.251  L 133.749 41.251  L 99.019 238.213  L 167.423 50.274  L 67.423 223.479  L 195.981 70.27  L 42.772 198.828  L 215.977 98.828  L 28.038 167.232  L 225.0 132.502  L 25.0 132.502  L 221.962 167.232  L 34.023 98.828  L 207.228 198.828  L 54.019 70.27  L 182.577 223.479  L 82.577 50.274  L 150.981 238.213  L 116.251 41.251  L 116.251 241.251  L 150.981 44.289  L 82.577 232.228  L 182.577 59.023  L 54.019 212.232  L 207.228 83.674  L 34.023 183.674  L 221.962 115.27  L 25.0 150.0 \" stroke-linecap=\"round\" style=\"stroke:red;stroke-width:1.5\" fill=\"yellow\" /><path fill-rule=\"evenodd\" fill-opacity=\"1\" d=\"M 275.0 150.0  L 425.0 150.0  L 310.093 53.582  L 336.14 201.303  L 411.14 71.399  L 270.186 122.702  L 411.14 174.005  L 336.14 44.101  L 310.093 191.822  L 425.0 95.404  L 275.0 95.404  L 389.907 191.822  L 363.86 44.101  L 288.86 174.005  L 429.814 122.702  L 288.86 71.399  L 363.86 201.303  L 389.907 53.582  L 275.0 150.0 \" stroke-linecap=\"round\" style=\"stroke:blue;stroke-width:1.5\" fill=\"green\" />\n",
              "        \n",
              "        \n",
              "        <g id=\"classic\" visibility=\"visible\" transform=\"rotate(-90,25.0,150.0) translate(25.0, 150.0)\">\n",
              "<polygon points=\"-5,-4.5 0,-2.5 5,-4.5 0,4.5\" transform=\"skewX(0) scale(1,1)\" style=\"stroke:red;fill:yellow;stroke-width:1\" />\n",
              "</g><g id=\"classic\" visibility=\"visible\" transform=\"rotate(-90,275.0,150.0) translate(275.0, 150.0)\">\n",
              "<polygon points=\"-5,-4.5 0,-2.5 5,-4.5 0,4.5\" transform=\"skewX(0) scale(1,1)\" style=\"stroke:blue;fill:green;stroke-width:1\" />\n",
              "</g>\n",
              "      </svg>\n",
              "    "
            ]
          },
          "metadata": {}
        }
      ]
    },
    {
      "cell_type": "code",
      "source": [],
      "metadata": {
        "id": "loU8pwuFQ-Go"
      },
      "execution_count": null,
      "outputs": []
    }
  ]
}